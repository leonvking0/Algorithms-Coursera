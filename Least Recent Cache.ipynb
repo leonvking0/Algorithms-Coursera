{
 "cells": [
  {
   "cell_type": "markdown",
   "metadata": {},
   "source": [
    "[146. LRU Cache](https://leetcode.com/problems/lru-cache/)"
   ]
  },
  {
   "cell_type": "code",
   "execution_count": 53,
   "metadata": {},
   "outputs": [],
   "source": [
    "class LRUCache(object):\n",
    "\n",
    "    def __init__(self, capacity):\n",
    "        \"\"\"\n",
    "        :type capacity: int\n",
    "        \"\"\"\n",
    "        self.capacity = capacity\n",
    "        self.dic = {}\n",
    "        self.recent = []\n",
    "        self.size = 0\n",
    "        \n",
    "\n",
    "    def get(self, key):\n",
    "        \"\"\"\n",
    "        :type key: int\n",
    "        :rtype: int\n",
    "        \"\"\"\n",
    "        result = self.dic.get(key, -1)\n",
    "        if result != -1:\n",
    "            self.recent.remove(key)\n",
    "            self.recent.append(key)\n",
    "        return result\n",
    "        \n",
    "\n",
    "    def put(self, key, value):\n",
    "        \"\"\"\n",
    "        :type key: int\n",
    "        :type value: int\n",
    "        :rtype: None\n",
    "        \"\"\"\n",
    "        if self.dic.get(key, False):\n",
    "            self.dic[key] = value\n",
    "            self.recent.remove(key)\n",
    "            self.recent.append(key)\n",
    "        else:    \n",
    "            if self.size >= self.capacity:\n",
    "                self.dic.pop(self.recent[0])\n",
    "                self.dic[key] = value\n",
    "                self.recent.pop(0)\n",
    "            else:\n",
    "                self.dic[key] = value\n",
    "                self.size += 1\n",
    "                \n",
    "            self.recent.append(key)\n",
    "        "
   ]
  },
  {
   "cell_type": "code",
   "execution_count": 57,
   "metadata": {},
   "outputs": [],
   "source": [
    "cache = LRUCache(2)"
   ]
  },
  {
   "cell_type": "code",
   "execution_count": 58,
   "metadata": {},
   "outputs": [],
   "source": [
    "cache.put(1,1)\n",
    "cache.put(2,2)\n",
    "cache.get(1)\n",
    "cache.put(3,3)"
   ]
  },
  {
   "cell_type": "code",
   "execution_count": 59,
   "metadata": {},
   "outputs": [
    {
     "data": {
      "text/plain": [
       "[1, 3]"
      ]
     },
     "execution_count": 59,
     "metadata": {},
     "output_type": "execute_result"
    }
   ],
   "source": [
    "cache.recent"
   ]
  },
  {
   "cell_type": "code",
   "execution_count": 60,
   "metadata": {},
   "outputs": [
    {
     "data": {
      "text/plain": [
       "{1: 1, 3: 3}"
      ]
     },
     "execution_count": 60,
     "metadata": {},
     "output_type": "execute_result"
    }
   ],
   "source": [
    "cache.dic"
   ]
  },
  {
   "cell_type": "code",
   "execution_count": 54,
   "metadata": {},
   "outputs": [],
   "source": [
    "cache = LRUCache(2)\n",
    "cache.put(2,1)\n",
    "cache.put(2,2)"
   ]
  },
  {
   "cell_type": "code",
   "execution_count": 21,
   "metadata": {},
   "outputs": [
    {
     "data": {
      "text/plain": [
       "1"
      ]
     },
     "execution_count": 21,
     "metadata": {},
     "output_type": "execute_result"
    }
   ],
   "source": [
    "[\"LRUCache\",\"put\",\"put\",\"get\",\"put\",\"put\",\"get\"]\n",
    "[[2],[2,1],[2,2],[2],[1,1],[4,1],[2]]"
   ]
  },
  {
   "cell_type": "code",
   "execution_count": 55,
   "metadata": {},
   "outputs": [
    {
     "data": {
      "text/plain": [
       "[2]"
      ]
     },
     "execution_count": 55,
     "metadata": {},
     "output_type": "execute_result"
    }
   ],
   "source": [
    "cache.recent"
   ]
  },
  {
   "cell_type": "code",
   "execution_count": 56,
   "metadata": {},
   "outputs": [
    {
     "data": {
      "text/plain": [
       "{2: 2}"
      ]
     },
     "execution_count": 56,
     "metadata": {},
     "output_type": "execute_result"
    }
   ],
   "source": [
    "cache.dic"
   ]
  },
  {
   "cell_type": "markdown",
   "metadata": {},
   "source": [
    "*The above implementation does not have O(1) time for get and put, because searching a key in a list is not O(1)"
   ]
  },
  {
   "cell_type": "markdown",
   "metadata": {},
   "source": [
    "**Another implementation with python built in deque**"
   ]
  },
  {
   "cell_type": "code",
   "execution_count": 58,
   "metadata": {},
   "outputs": [],
   "source": [
    "from collections import deque\n",
    "class Node(object):\n",
    "    def __init__(self, key, val):\n",
    "        self.key = key\n",
    "        self.val = val\n",
    "        \n",
    "class LRUCache(object):\n",
    "    def __init__(self, capacity):\n",
    "        self.capacity = capacity\n",
    "        self.hashmap = {}\n",
    "        self.node_deque = deque()\n",
    "        self.current_size = 0\n",
    "    \n",
    "    def get(self, key):\n",
    "        node = self.hashmap.get(key, False)\n",
    "        if node:\n",
    "            self.set_head(node)\n",
    "            return node.val\n",
    "        else:\n",
    "            return -1\n",
    "    def put(self, key, val):\n",
    "        node = self.hashmap.get(key, False)\n",
    "        if node:\n",
    "            node.val = val\n",
    "            self.set_head(node)\n",
    "        else:\n",
    "            if self.current_size >= self.capacity:\n",
    "                tail = self.node_deque.pop()\n",
    "                self.hashmap.pop(tail.key)\n",
    "            else:\n",
    "                self.current_size += 1\n",
    "            new_node = Node(key, val)\n",
    "            self.hashmap[key] = new_node\n",
    "            self.node_deque.appendleft(new_node)\n",
    "        \n",
    "    def set_head(self, node):\n",
    "        self.node_deque.remove(node)\n",
    "        self.node_deque.appendleft(node)"
   ]
  },
  {
   "cell_type": "code",
   "execution_count": 63,
   "metadata": {},
   "outputs": [],
   "source": [
    "cache = LRUCache(2)"
   ]
  },
  {
   "cell_type": "code",
   "execution_count": 66,
   "metadata": {},
   "outputs": [],
   "source": [
    "cache.put(1,1)\n",
    "cache.put(2,2)\n",
    "cache.get(1)\n",
    "cache.put(3,3)\n",
    "cache.put(3,4)"
   ]
  },
  {
   "cell_type": "code",
   "execution_count": 67,
   "metadata": {},
   "outputs": [
    {
     "name": "stdout",
     "output_type": "stream",
     "text": [
      "key: 3, val: 4\n",
      "key: 1, val: 1\n"
     ]
    }
   ],
   "source": [
    "for node in cache.node_deque:\n",
    "    print('key: {}, val: {}'.format(node.key, node.val))"
   ]
  },
  {
   "cell_type": "markdown",
   "metadata": {},
   "source": [
    "*The above implementaion supposed to run fast, but not really T.T. Is deque.remove is O(1) time?"
   ]
  },
  {
   "cell_type": "markdown",
   "metadata": {},
   "source": [
    "**Yet another implementation, implement deque myself**"
   ]
  },
  {
   "cell_type": "code",
   "execution_count": 121,
   "metadata": {},
   "outputs": [],
   "source": [
    "class Node(object):\n",
    "    def __init__(self, key, val):\n",
    "        self.key = key\n",
    "        self.val = val\n",
    "        self.prev = None\n",
    "        self.next = None\n",
    "        \n",
    "    def __str__(self):\n",
    "        return \"(%s, %s)\" % (self.key, self.val)\n",
    "    \n",
    "class Deque(object):\n",
    "    def __init__(self):\n",
    "        self.head = None\n",
    "        self.tail = None\n",
    "    \n",
    "    def append(self, node):\n",
    "        if self.head is None:\n",
    "            self.head = node\n",
    "            self.tail = node\n",
    "        else:\n",
    "            node.prev = self.tail\n",
    "            self.tail.next = node\n",
    "            self.tail = node\n",
    "    \n",
    "    def appendleft(self, node):\n",
    "        if self.head is None:\n",
    "            self.head = node\n",
    "            self.tail = node\n",
    "        else:\n",
    "            node.next = self.head\n",
    "            self.head.prev = node\n",
    "            self.head = node\n",
    "            \n",
    "    def remove(self, node):\n",
    "        if self.head is node and self.tail is node:\n",
    "            self.head = None\n",
    "            self.tail = None\n",
    "        \n",
    "        elif self.head is node:\n",
    "            self.head = node.next\n",
    "            self.head.prev = None\n",
    "        \n",
    "        elif self.tail is node:\n",
    "            self.tail = node.prev\n",
    "            self.tail.next = None\n",
    "        \n",
    "        # case in bewtween head and tail\n",
    "        else:\n",
    "            node.prev.next = node.next\n",
    "            node.next.prev = node.prev\n",
    "        return node\n",
    "    \n",
    "    def pop(self):\n",
    "        return self.remove(self.tail)\n",
    "\n",
    "    def print_elements(self):\n",
    "        n = self.head\n",
    "        print(\"[head = %s, end = %s]\" % (self.head, self.tail), end=\" \")\n",
    "        while n:\n",
    "            print(\"%s -> \" % (n), end = \"\")\n",
    "            n = n.next\n",
    "        print(\"NULL\")\n",
    "        \n",
    "class LRUCache(object):\n",
    "    def __init__(self, capacity):\n",
    "        self.capacity = capacity\n",
    "        self.hashmap = {}\n",
    "        self.node_deque = Deque()\n",
    "        self.current_size = 0\n",
    "    \n",
    "    def get(self, key):\n",
    "        node = self.hashmap.get(key, False)\n",
    "        if node:\n",
    "            self.set_head(node)\n",
    "            return node.val\n",
    "        else:\n",
    "            return -1\n",
    "    def put(self, key, val):\n",
    "        node = self.hashmap.get(key, False)\n",
    "        if node:\n",
    "            node.val = val\n",
    "            self.set_head(node)\n",
    "        else:\n",
    "            if self.current_size >= self.capacity:\n",
    "                tail = self.node_deque.pop()\n",
    "                self.hashmap.pop(tail.key)\n",
    "            else:\n",
    "                self.current_size += 1\n",
    "            new_node = Node(key, val)\n",
    "            self.hashmap[key] = new_node\n",
    "            self.node_deque.appendleft(new_node)\n",
    "        \n",
    "    def set_head(self, node):\n",
    "        self.node_deque.remove(node)\n",
    "        self.node_deque.appendleft(node)"
   ]
  },
  {
   "cell_type": "code",
   "execution_count": 122,
   "metadata": {},
   "outputs": [],
   "source": [
    "deque_test = Deque()"
   ]
  },
  {
   "cell_type": "code",
   "execution_count": 123,
   "metadata": {},
   "outputs": [
    {
     "name": "stdout",
     "output_type": "stream",
     "text": [
      "(2, 9)\n"
     ]
    }
   ],
   "source": [
    "node_1 = Node(1,7)\n",
    "node_2 = Node(2,9)\n",
    "node_3 = Node(3,6)\n",
    "node_4 = Node(4,11)\n",
    "\n",
    "deque_test.append(node_1)\n",
    "deque_test.append(node_2)\n",
    "deque_test.append(node_3)\n",
    "deque_test.remove(node_3)\n",
    "deque_test.appendleft(node_4)\n",
    "print(deque_test.pop())"
   ]
  },
  {
   "cell_type": "code",
   "execution_count": 124,
   "metadata": {},
   "outputs": [
    {
     "name": "stdout",
     "output_type": "stream",
     "text": [
      "[head = (4, 11), end = (1, 7)] (4, 11) -> (1, 7) -> NULL\n"
     ]
    }
   ],
   "source": [
    "deque_test.print_elements()"
   ]
  },
  {
   "cell_type": "code",
   "execution_count": 127,
   "metadata": {},
   "outputs": [
    {
     "name": "stdout",
     "output_type": "stream",
     "text": [
      "[head = (3, 4), end = (1, 1)] (3, 4) -> (1, 1) -> NULL\n"
     ]
    }
   ],
   "source": [
    "cache = LRUCache(2)\n",
    "\n",
    "cache.put(1,1)\n",
    "cache.put(2,2)\n",
    "cache.get(1)\n",
    "cache.put(3,3)\n",
    "cache.put(3,4)\n",
    "\n",
    "cache.node_deque.print_elements()"
   ]
  },
  {
   "cell_type": "markdown",
   "metadata": {},
   "source": [
    "*This time much faster!!"
   ]
  },
  {
   "cell_type": "code",
   "execution_count": null,
   "metadata": {},
   "outputs": [],
   "source": []
  }
 ],
 "metadata": {
  "kernelspec": {
   "display_name": "Python 3",
   "language": "python",
   "name": "python3"
  },
  "language_info": {
   "codemirror_mode": {
    "name": "ipython",
    "version": 3
   },
   "file_extension": ".py",
   "mimetype": "text/x-python",
   "name": "python",
   "nbconvert_exporter": "python",
   "pygments_lexer": "ipython3",
   "version": "3.5.2"
  }
 },
 "nbformat": 4,
 "nbformat_minor": 2
}
