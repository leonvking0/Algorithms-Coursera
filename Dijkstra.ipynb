{
 "cells": [
  {
   "cell_type": "markdown",
   "metadata": {},
   "source": [
    "**Dijkstra algorithm** can be used to find the shortest path of weighted DAG (assume not negative weight)"
   ]
  },
  {
   "cell_type": "markdown",
   "metadata": {},
   "source": [
    "<img src=\"imgs/weighted_DAG.JPG\" width=\"500\" align=\"left\">"
   ]
  },
  {
   "cell_type": "code",
   "execution_count": 1,
   "metadata": {},
   "outputs": [],
   "source": [
    "## Define graph\n",
    "graph = {}\n",
    "\n",
    "graph[\"start\"] = {}\n",
    "graph[\"start\"][\"a\"] = 6\n",
    "graph[\"start\"][\"b\"] = 2\n",
    "\n",
    "graph[\"a\"] = {}\n",
    "graph[\"a\"][\"fin\"] = 1\n",
    "\n",
    "graph[\"b\"] = {}\n",
    "graph[\"b\"][\"a\"] = 3\n",
    "graph[\"b\"][\"fin\"] = 5\n",
    "\n",
    "graph[\"fin\"] = {}\n",
    "\n",
    "## Define cost\n",
    "infinity = float(\"inf\")\n",
    "costs = {}\n",
    "costs[\"a\"] = 6\n",
    "costs[\"b\"] = 2\n",
    "costs[\"fin\"] = infinity\n",
    "\n",
    "## Define parents\n",
    "parents = {}\n",
    "parents[\"a\"] = \"start\"\n",
    "parents[\"b\"] = \"start\"\n",
    "parents[\"fin\"] = None\n",
    "\n",
    "## Dic to store nodes's process status\n",
    "proccessed = {}\n",
    "for n in graph.keys():\n",
    "    proccessed[n] = False"
   ]
  },
  {
   "cell_type": "code",
   "execution_count": 2,
   "metadata": {},
   "outputs": [
    {
     "name": "stdout",
     "output_type": "stream",
     "text": [
      "{'fin': inf, 'b': 2, 'a': 6}\n",
      "{'fin': None, 'b': 'start', 'a': 'start'}\n"
     ]
    }
   ],
   "source": [
    "print(costs)\n",
    "print(parents)"
   ]
  },
  {
   "cell_type": "code",
   "execution_count": 3,
   "metadata": {},
   "outputs": [],
   "source": [
    "## Function to find lowest cost node which has not been proccessed\n",
    "def find_lowest_cost_node(costs, proccessed):\n",
    "    lowest_cost = infinity\n",
    "    lowest_cost_node = None\n",
    "    for n in costs:\n",
    "        cost = costs[n]\n",
    "        if not proccessed[n] and cost < lowest_cost:\n",
    "            lowest_cost = cost\n",
    "            lowest_cost_node = n\n",
    "    return lowest_cost_node"
   ]
  },
  {
   "cell_type": "code",
   "execution_count": 4,
   "metadata": {},
   "outputs": [],
   "source": [
    "def print_path(parents):\n",
    "    def _print_node_recur(node):\n",
    "        parent = parents[node]\n",
    "        if parent == 'start':\n",
    "            return '{} >> {} '.format(parent, node)\n",
    "        else:\n",
    "            return _print_node_recur(parent) + '>> {} '.format(node)\n",
    "        \n",
    "    if parents['fin'] is None:\n",
    "        return 'There is no path to the final node!'\n",
    "    \n",
    "    return _print_node_recur('fin')"
   ]
  },
  {
   "cell_type": "code",
   "execution_count": 5,
   "metadata": {},
   "outputs": [],
   "source": [
    "## Dijkstra algorithm\n",
    "def dijkstra(graph, costs, parents, proccessed):\n",
    "    node = find_lowest_cost_node(costs, proccessed)\n",
    "    while node is not None:\n",
    "        cost = costs[node]\n",
    "        neighbours = graph[node].keys()\n",
    "        for n in neighbours:\n",
    "            # compute the cost from the current node to the neighbour\n",
    "            new_cost = cost + graph[node][n]\n",
    "            # update the cost & parent if it is smaller than entry in costs table\n",
    "            if new_cost < costs[n]:\n",
    "                costs[n] = new_cost\n",
    "                parents[n] = node\n",
    "        # mark the node as already processed\n",
    "        proccessed[node] = True\n",
    "        node = find_lowest_cost_node(costs, proccessed)\n",
    "    \n",
    "    lowest_cost = costs['fin']\n",
    "    path = print_path(parents)\n",
    "    return lowest_cost, path"
   ]
  },
  {
   "cell_type": "code",
   "execution_count": 6,
   "metadata": {},
   "outputs": [
    {
     "data": {
      "text/plain": [
       "(6, 'start >> b >> a >> fin ')"
      ]
     },
     "execution_count": 6,
     "metadata": {},
     "output_type": "execute_result"
    }
   ],
   "source": [
    "dijkstra(graph, costs, parents, proccessed)"
   ]
  }
 ],
 "metadata": {
  "kernelspec": {
   "display_name": "Python 3",
   "language": "python",
   "name": "python3"
  },
  "language_info": {
   "codemirror_mode": {
    "name": "ipython",
    "version": 3
   },
   "file_extension": ".py",
   "mimetype": "text/x-python",
   "name": "python",
   "nbconvert_exporter": "python",
   "pygments_lexer": "ipython3",
   "version": "3.5.2"
  }
 },
 "nbformat": 4,
 "nbformat_minor": 2
}
