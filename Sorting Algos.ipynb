{
 "cells": [
  {
   "cell_type": "code",
   "execution_count": 1,
   "metadata": {},
   "outputs": [],
   "source": [
    "import random"
   ]
  },
  {
   "cell_type": "code",
   "execution_count": 44,
   "metadata": {},
   "outputs": [],
   "source": [
    "size = int(1e4)\n",
    "unsorted_array = random.sample(range(size), size)"
   ]
  },
  {
   "cell_type": "markdown",
   "metadata": {},
   "source": [
    "## Selection sort"
   ]
  },
  {
   "cell_type": "code",
   "execution_count": 15,
   "metadata": {},
   "outputs": [],
   "source": [
    "def selection_sort(unsorted_array):\n",
    "    for i in range(0, len(unsorted_array) - 1):\n",
    "        for j in range(i, len(unsorted_array)):\n",
    "            left_val = unsorted_array[i]\n",
    "            right_val = unsorted_array[j]\n",
    "            # shift position if right val less than left val\n",
    "            if right_val < left_val:\n",
    "                unsorted_array[i] = right_val\n",
    "                unsorted_array[j] = left_val\n",
    "    sorted_array = unsorted_array\n",
    "    return sorted_array"
   ]
  },
  {
   "cell_type": "code",
   "execution_count": 20,
   "metadata": {},
   "outputs": [
    {
     "name": "stdout",
     "output_type": "stream",
     "text": [
      "CPU times: user 5.54 s, sys: 0 ns, total: 5.54 s\n",
      "Wall time: 5.54 s\n"
     ]
    }
   ],
   "source": [
    "%%time\n",
    "sorted_array = selection_sort(unsorted_array)"
   ]
  },
  {
   "cell_type": "code",
   "execution_count": null,
   "metadata": {},
   "outputs": [],
   "source": [
    "## TO-DO \n",
    "## bubble sort "
   ]
  },
  {
   "cell_type": "markdown",
   "metadata": {},
   "source": [
    "## Merge sort"
   ]
  },
  {
   "cell_type": "code",
   "execution_count": 27,
   "metadata": {},
   "outputs": [],
   "source": [
    "# this function is O(n) time\n",
    "def merge_sorted_array(left_array, right_array):\n",
    "    left_size = len(left_array)\n",
    "    right_size = len(right_array)\n",
    "    i = 0\n",
    "    j = 0\n",
    "    k = 0\n",
    "    new_array = [-1] * (left_size + right_size)\n",
    "    while i < left_size and j < right_size:\n",
    "        if left_array[i] < right_array[j]:\n",
    "            new_array[k] = left_array[i]\n",
    "            i += 1\n",
    "            k += 1\n",
    "        else:\n",
    "            new_array[k] = right_array[j]\n",
    "            j += 1\n",
    "            k += 1\n",
    "    # append the rest of the array\n",
    "    while i < left_size:\n",
    "        new_array[k] = left_array[i]\n",
    "        i += 1\n",
    "        k += 1\n",
    "        \n",
    "    while j < right_size:\n",
    "        new_array[k] = right_array[j]\n",
    "        j += 1\n",
    "        k += 1\n",
    "    return new_array"
   ]
  },
  {
   "cell_type": "code",
   "execution_count": 30,
   "metadata": {},
   "outputs": [
    {
     "name": "stdout",
     "output_type": "stream",
     "text": [
      "[1, 3, 5, 6]\n",
      "[1, 2, 3, 4, 6, 7]\n"
     ]
    }
   ],
   "source": [
    "print(merge_sorted_array([5], [1, 3, 6]))\n",
    "print(merge_sorted_array([2, 4, 7], [1, 3, 6]))"
   ]
  },
  {
   "cell_type": "code",
   "execution_count": 51,
   "metadata": {},
   "outputs": [],
   "source": [
    "## O(n*log(n)) running time\n",
    "def merge_sort(unsorted_array):\n",
    "    array_size = len(unsorted_array)\n",
    "    if array_size <= 1:\n",
    "        return unsorted_array\n",
    "    else:\n",
    "        mid = len(unsorted_array) // 2\n",
    "        left_array = unsorted_array[:mid]\n",
    "        right_array = unsorted_array[mid:]\n",
    "        return merge_sorted_array(merge_sort(left_array), merge_sort(right_array))"
   ]
  },
  {
   "cell_type": "code",
   "execution_count": 52,
   "metadata": {},
   "outputs": [
    {
     "name": "stdout",
     "output_type": "stream",
     "text": [
      "CPU times: user 51.6 ms, sys: 0 ns, total: 51.6 ms\n",
      "Wall time: 51 ms\n"
     ]
    }
   ],
   "source": [
    "%%time\n",
    "sorted_array = merge_sort(unsorted_array)"
   ]
  },
  {
   "cell_type": "markdown",
   "metadata": {},
   "source": [
    "## Quick sort"
   ]
  },
  {
   "cell_type": "code",
   "execution_count": 49,
   "metadata": {},
   "outputs": [],
   "source": [
    "def quick_sort(unsorted_array):\n",
    "    array_size = len(unsorted_array)\n",
    "    if array_size <= 1:\n",
    "        return unsorted_array\n",
    "    else:\n",
    "        pivot = unsorted_array[0]\n",
    "        less = [i for i in unsorted_array[1:] if i < pivot]\n",
    "        greater = [i for i in unsorted_array[1:] if i > pivot]\n",
    "    return quick_sort(less) + [pivot] + quick_sort(greater)"
   ]
  },
  {
   "cell_type": "code",
   "execution_count": 50,
   "metadata": {},
   "outputs": [
    {
     "name": "stdout",
     "output_type": "stream",
     "text": [
      "CPU times: user 27.6 ms, sys: 0 ns, total: 27.6 ms\n",
      "Wall time: 27.2 ms\n"
     ]
    }
   ],
   "source": [
    "%%time\n",
    "sorted_array = quick_sort(unsorted_array)"
   ]
  },
  {
   "cell_type": "code",
   "execution_count": 53,
   "metadata": {},
   "outputs": [],
   "source": [
    "## Test the built-in sort\n",
    "test = unsorted_array[:]"
   ]
  },
  {
   "cell_type": "code",
   "execution_count": 54,
   "metadata": {},
   "outputs": [
    {
     "name": "stdout",
     "output_type": "stream",
     "text": [
      "CPU times: user 3 ms, sys: 19 µs, total: 3.02 ms\n",
      "Wall time: 3.02 ms\n"
     ]
    }
   ],
   "source": [
    "%%time\n",
    "test.sort()"
   ]
  }
 ],
 "metadata": {
  "kernelspec": {
   "display_name": "Python 3",
   "language": "python",
   "name": "python3"
  },
  "language_info": {
   "codemirror_mode": {
    "name": "ipython",
    "version": 3
   },
   "file_extension": ".py",
   "mimetype": "text/x-python",
   "name": "python",
   "nbconvert_exporter": "python",
   "pygments_lexer": "ipython3",
   "version": "3.5.2"
  }
 },
 "nbformat": 4,
 "nbformat_minor": 2
}
