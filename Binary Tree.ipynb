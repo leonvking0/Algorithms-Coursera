{
 "cells": [
  {
   "cell_type": "code",
   "execution_count": 8,
   "metadata": {},
   "outputs": [],
   "source": [
    "class BinaryTree(object):\n",
    "    def __init__(self, value):\n",
    "        self.value = value\n",
    "        self.left_branch = None\n",
    "        self.right_branch = None\n",
    "        self.parent = None\n",
    "        \n",
    "    def set_left_branch(self, node):\n",
    "        self.left_branch = node\n",
    "        node.set_parent(self)\n",
    "        \n",
    "    def set_right_branch(self, node):\n",
    "        self.right_branch = node\n",
    "        node.set_parent(self)\n",
    "        \n",
    "    def set_parent(self, node):\n",
    "        self.parent = node\n",
    "        \n",
    "    def get_left_branch(self):\n",
    "        return self.left_branch\n",
    "    \n",
    "    def get_right_branch(self):\n",
    "        return self.right_branch\n",
    "    \n",
    "    def get_parent(self):\n",
    "        return self.parent\n",
    "    \n",
    "    def get_value(self):\n",
    "        return self.value\n",
    "    \n",
    "    def __str__(self):\n",
    "        return str(self.value)"
   ]
  },
  {
   "cell_type": "code",
   "execution_count": 11,
   "metadata": {},
   "outputs": [],
   "source": [
    "## Construct example tree\n",
    "n5 = BinaryTree(5)\n",
    "n2 = BinaryTree(2)\n",
    "n1 = BinaryTree(1)\n",
    "n4 = BinaryTree(4)\n",
    "n3 = BinaryTree(3)\n",
    "n8 = BinaryTree(8)\n",
    "n6 = BinaryTree(6)\n",
    "n7 = BinaryTree(7)\n",
    "n5.set_left_branch(n2)\n",
    "n5.set_right_branch(n8)\n",
    "n2.set_left_branch(n1)\n",
    "n2.set_right_branch(n4)\n",
    "n4.set_left_branch(n3)\n",
    "n8.set_left_branch(n6)\n",
    "n6.set_right_branch(n7)"
   ]
  },
  {
   "cell_type": "markdown",
   "metadata": {},
   "source": [
    "<img src=\"imgs/binary_tree.PNG\" width=\"500\" align=\"left\">"
   ]
  },
  {
   "cell_type": "markdown",
   "metadata": {},
   "source": [
    "## Searching Through a Tree\n",
    "- DFS\n",
    "- BFS"
   ]
  },
  {
   "cell_type": "code",
   "execution_count": 21,
   "metadata": {},
   "outputs": [],
   "source": [
    "def dfs_binary(root, fcn):\n",
    "    stack = [root]\n",
    "    while len(stack) > 0:\n",
    "        node_to_check = stack.pop(0)\n",
    "        print(node_to_check.__str__() + ' ', end='')\n",
    "        if fcn(node_to_check):\n",
    "            return True\n",
    "        ## if not found push childs to stack\n",
    "        else:\n",
    "            if node_to_check.get_right_branch():\n",
    "                stack.insert(0, node_to_check.get_right_branch())\n",
    "            if node_to_check.get_left_branch():\n",
    "                stack.insert(0, node_to_check.get_left_branch())\n",
    "    return False"
   ]
  },
  {
   "cell_type": "code",
   "execution_count": 22,
   "metadata": {},
   "outputs": [],
   "source": [
    "## Test DFS\n",
    "def find_val(val):\n",
    "    def _fcn(node):\n",
    "        return node.get_value() == val\n",
    "    return _fcn"
   ]
  },
  {
   "cell_type": "code",
   "execution_count": 25,
   "metadata": {},
   "outputs": [
    {
     "name": "stdout",
     "output_type": "stream",
     "text": [
      "5 2 1 4 3 8 6 "
     ]
    },
    {
     "data": {
      "text/plain": [
       "True"
      ]
     },
     "execution_count": 25,
     "metadata": {},
     "output_type": "execute_result"
    }
   ],
   "source": [
    "dfs_binary(n5, find_val(6))"
   ]
  },
  {
   "cell_type": "code",
   "execution_count": 26,
   "metadata": {},
   "outputs": [
    {
     "name": "stdout",
     "output_type": "stream",
     "text": [
      "2 1 4 3 "
     ]
    },
    {
     "data": {
      "text/plain": [
       "False"
      ]
     },
     "execution_count": 26,
     "metadata": {},
     "output_type": "execute_result"
    }
   ],
   "source": [
    "dfs_binary(n2, find_val(6))"
   ]
  },
  {
   "cell_type": "code",
   "execution_count": 33,
   "metadata": {},
   "outputs": [],
   "source": [
    "def bfs_binary(root, fcn):\n",
    "    queue = [root]\n",
    "    while len(queue) > 0:\n",
    "        node_to_check = queue.pop(0)\n",
    "        print(node_to_check.__str__() + ' ', end='')\n",
    "        if fcn(node_to_check):\n",
    "            return True\n",
    "        ## if not found add childs to queue\n",
    "        else:\n",
    "            if node_to_check.get_left_branch():\n",
    "                queue.append(node_to_check.get_left_branch())\n",
    "            if node_to_check.get_right_branch():\n",
    "                queue.append(node_to_check.get_right_branch())\n",
    "    return False"
   ]
  },
  {
   "cell_type": "code",
   "execution_count": 36,
   "metadata": {},
   "outputs": [
    {
     "name": "stdout",
     "output_type": "stream",
     "text": [
      "5 2 8 1 4 6 "
     ]
    },
    {
     "data": {
      "text/plain": [
       "True"
      ]
     },
     "execution_count": 36,
     "metadata": {},
     "output_type": "execute_result"
    }
   ],
   "source": [
    "bfs_binary(n5, find_val(6))"
   ]
  },
  {
   "cell_type": "code",
   "execution_count": 39,
   "metadata": {},
   "outputs": [
    {
     "name": "stdout",
     "output_type": "stream",
     "text": [
      "2 1 4 3 "
     ]
    },
    {
     "data": {
      "text/plain": [
       "False"
      ]
     },
     "execution_count": 39,
     "metadata": {},
     "output_type": "execute_result"
    }
   ],
   "source": [
    "bfs_binary(n2, find_val(6))"
   ]
  },
  {
   "cell_type": "markdown",
   "metadata": {},
   "source": [
    "Now say if instead of returning a True when node is found, we what to know the **trace back to the root**.\n",
    "\n",
    "This is what we will do:"
   ]
  },
  {
   "cell_type": "code",
   "execution_count": 44,
   "metadata": {},
   "outputs": [],
   "source": [
    "def bfs_binary(root, fcn):\n",
    "    queue = [root]\n",
    "    while len(queue) > 0:\n",
    "        node_to_check = queue.pop(0)\n",
    "        print(node_to_check.__str__() + ' ', end='')\n",
    "        if fcn(node_to_check):\n",
    "            return trace_path(node_to_check)\n",
    "        ## if not found add childs to queue\n",
    "        else:\n",
    "            if node_to_check.get_left_branch():\n",
    "                queue.append(node_to_check.get_left_branch())\n",
    "            if node_to_check.get_right_branch():\n",
    "                queue.append(node_to_check.get_right_branch())\n",
    "    return False\n",
    "\n",
    "def trace_path(node):\n",
    "    if not node.get_parent():\n",
    "        return [node.get_value()]\n",
    "    else:\n",
    "        return trace_path(node.get_parent()) + [node.get_value()]"
   ]
  },
  {
   "cell_type": "code",
   "execution_count": 45,
   "metadata": {},
   "outputs": [
    {
     "name": "stdout",
     "output_type": "stream",
     "text": [
      "5 2 8 1 4 6 "
     ]
    },
    {
     "data": {
      "text/plain": [
       "[5, 8, 6]"
      ]
     },
     "execution_count": 45,
     "metadata": {},
     "output_type": "execute_result"
    }
   ],
   "source": [
    "bfs_binary(n5, find_val(6))"
   ]
  },
  {
   "cell_type": "markdown",
   "metadata": {},
   "source": [
    "## Ordered Binary Tree\n",
    "- left node is always less than right node\n",
    "- we can use logic similar with binary search for searching through the tree\n",
    "\n",
    "In fact the example tree we have above is ordered binary tree"
   ]
  },
  {
   "cell_type": "code",
   "execution_count": 50,
   "metadata": {},
   "outputs": [],
   "source": [
    "def bfs_binary_ordered(root, fcn, less_then_fcn):\n",
    "    queue = [root]\n",
    "    while len(queue) > 0:\n",
    "        node_to_check = queue.pop(0)\n",
    "        print(node_to_check.__str__() + ' ', end='')\n",
    "        if fcn(node_to_check):\n",
    "            return True\n",
    "        ## check on which side of the tree to go down\n",
    "        elif less_then_fcn(node_to_check):\n",
    "            if node_to_check.get_left_branch():\n",
    "                queue.append(node_to_check.get_left_branch())\n",
    "        else:\n",
    "            if node_to_check.get_right_branch():\n",
    "                queue.append(node_to_check.get_right_branch())\n",
    "    return False"
   ]
  },
  {
   "cell_type": "code",
   "execution_count": 53,
   "metadata": {},
   "outputs": [],
   "source": [
    "## Test DFS\n",
    "def less_than(val):\n",
    "    def _fcn(node):\n",
    "        return val < node.get_value() \n",
    "    return _fcn"
   ]
  },
  {
   "cell_type": "code",
   "execution_count": 54,
   "metadata": {},
   "outputs": [
    {
     "name": "stdout",
     "output_type": "stream",
     "text": [
      "5 8 6 "
     ]
    },
    {
     "data": {
      "text/plain": [
       "True"
      ]
     },
     "execution_count": 54,
     "metadata": {},
     "output_type": "execute_result"
    }
   ],
   "source": [
    "bfs_binary_ordered(n5, find_val(6), less_than(6))"
   ]
  },
  {
   "cell_type": "code",
   "execution_count": 55,
   "metadata": {},
   "outputs": [
    {
     "name": "stdout",
     "output_type": "stream",
     "text": [
      "5 2 4 "
     ]
    },
    {
     "data": {
      "text/plain": [
       "True"
      ]
     },
     "execution_count": 55,
     "metadata": {},
     "output_type": "execute_result"
    }
   ],
   "source": [
    "bfs_binary_ordered(n5, find_val(4), less_than(4))"
   ]
  },
  {
   "cell_type": "code",
   "execution_count": null,
   "metadata": {},
   "outputs": [],
   "source": []
  }
 ],
 "metadata": {
  "kernelspec": {
   "display_name": "Python 3",
   "language": "python",
   "name": "python3"
  },
  "language_info": {
   "codemirror_mode": {
    "name": "ipython",
    "version": 3
   },
   "file_extension": ".py",
   "mimetype": "text/x-python",
   "name": "python",
   "nbconvert_exporter": "python",
   "pygments_lexer": "ipython3",
   "version": "3.5.2"
  }
 },
 "nbformat": 4,
 "nbformat_minor": 2
}
