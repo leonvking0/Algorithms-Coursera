{
 "cells": [
  {
   "cell_type": "code",
   "execution_count": null,
   "metadata": {},
   "outputs": [],
   "source": [
    "class Solution:\n",
    "    def findKthLargest(self, nums: List[int], k: int) -> int:\n",
    "        ankor = nums[random.randint(0,len(nums)-1)]\n",
    "        left, mid, right = [], [], []\n",
    "        for i in nums:\n",
    "            if i > ankor:\n",
    "                left += [i]\n",
    "            elif i < ankor:\n",
    "                right += [i]\n",
    "            else:\n",
    "                mid += [i]\n",
    "        if k <= len(left):\n",
    "            return self.findKthLargest(left,k)\n",
    "        elif k <= len(left) + len(mid):\n",
    "            return ankor\n",
    "        else:\n",
    "            return self.findKthLargest(right,k-len(left)-len(mid))"
   ]
  }
 ],
 "metadata": {
  "kernelspec": {
   "display_name": "Python 3",
   "language": "python",
   "name": "python3"
  },
  "language_info": {
   "codemirror_mode": {
    "name": "ipython",
    "version": 3
   },
   "file_extension": ".py",
   "mimetype": "text/x-python",
   "name": "python",
   "nbconvert_exporter": "python",
   "pygments_lexer": "ipython3",
   "version": "3.5.2"
  }
 },
 "nbformat": 4,
 "nbformat_minor": 2
}
