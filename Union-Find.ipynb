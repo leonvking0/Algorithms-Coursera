{
 "cells": [
  {
   "cell_type": "markdown",
   "metadata": {},
   "source": [
    "## Given a connected graph, is there a path connecting p and q?"
   ]
  },
  {
   "cell_type": "markdown",
   "metadata": {},
   "source": [
    "![Dynamic Connectivity](imgs/dynamic_connectivity.PNG)"
   ]
  },
  {
   "cell_type": "markdown",
   "metadata": {},
   "source": [
    "## Quick Find\n",
    "\n",
    "The **quick find** (or **eager approach**) implements data structure like this: \n",
    "- Integer array id[] of length N\n",
    "- Interpretation: p and q are connected iff they have the same id\n",
    "\n",
    "and two functions:\n",
    "- connected. Check if p and q are connected\n",
    "- union. To merge components containing p and q, change all entries whose id equals id[p] to id[q] (basically connect two nodes)."
   ]
  },
  {
   "cell_type": "code",
   "execution_count": 6,
   "metadata": {},
   "outputs": [],
   "source": [
    "class QuickFindUF:\n",
    "    def __init__(self, N):\n",
    "        self.id = [i for i in range(N)] #initialize ids\n",
    "    \n",
    "    def connected(self, p, q):\n",
    "        return self.id[p] == self.id[q]\n",
    "    \n",
    "    def union(self, p, q):\n",
    "        p_id = self.id[p]\n",
    "        q_id = self.id[q]\n",
    "        # assign all entries whose id equals id[p] to id[q]\n",
    "        for i in range(len(self.id)):\n",
    "            if self.id[i] == p_id:\n",
    "                self.id[i] = q_id"
   ]
  },
  {
   "cell_type": "markdown",
   "metadata": {},
   "source": [
    "Example: (0, 1) (2, 3, 4) (5)"
   ]
  },
  {
   "cell_type": "code",
   "execution_count": 8,
   "metadata": {},
   "outputs": [],
   "source": [
    "quick_find = QuickFindUF(6)\n",
    "quick_find.union(0, 1)\n",
    "quick_find.union(2, 3)\n",
    "quick_find.union(3, 4)"
   ]
  },
  {
   "cell_type": "code",
   "execution_count": 19,
   "metadata": {},
   "outputs": [
    {
     "name": "stdout",
     "output_type": "stream",
     "text": [
      "[1, 1, 4, 4, 4, 5]\n"
     ]
    }
   ],
   "source": [
    "print(quick_find.id)"
   ]
  },
  {
   "cell_type": "code",
   "execution_count": 9,
   "metadata": {},
   "outputs": [
    {
     "name": "stdout",
     "output_type": "stream",
     "text": [
      "True\n"
     ]
    }
   ],
   "source": [
    "print(quick_find.connected(0, 1))"
   ]
  },
  {
   "cell_type": "code",
   "execution_count": 10,
   "metadata": {},
   "outputs": [
    {
     "name": "stdout",
     "output_type": "stream",
     "text": [
      "True\n"
     ]
    }
   ],
   "source": [
    "print(quick_find.connected(2, 4))"
   ]
  },
  {
   "cell_type": "code",
   "execution_count": 12,
   "metadata": {},
   "outputs": [
    {
     "name": "stdout",
     "output_type": "stream",
     "text": [
      "False\n"
     ]
    }
   ],
   "source": [
    "print(quick_find.connected(3, 5))"
   ]
  },
  {
   "cell_type": "markdown",
   "metadata": {},
   "source": [
    "*Note that this quick find algorithm takes O(1) time for checking connectivity, \n",
    "but take O(N^2) time for initializing the unions. Therefore it is quadratic and not scalable"
   ]
  },
  {
   "cell_type": "markdown",
   "metadata": {},
   "source": [
    "## Quick Union (Lazy Approach)\n",
    "\n",
    "The **quick find** (or **eager approach**) implements data structure like this: \n",
    "- Integer array id[] of length N\n",
    "- Interpretation: id[i] is the parent of i\n",
    "\n",
    "and two functions:\n",
    "- find. Check if p and q have the same root (connected).\n",
    "- union. To merge components containing p and q, set the id of p's root to the id of q's root."
   ]
  },
  {
   "cell_type": "code",
   "execution_count": 15,
   "metadata": {},
   "outputs": [],
   "source": [
    "class QuickUnionUF():\n",
    "    def __init__(self, N):\n",
    "        self.id = [i for i in range(N)] #initialize ids\n",
    "    \n",
    "    def root(self, i):\n",
    "        # keep finding parent util reaching root\n",
    "        while(i != self.id[i]):\n",
    "            i = self.id[i] \n",
    "        return i\n",
    "    \n",
    "    def find(self, p, q):\n",
    "        return self.root(p) == self.root(q)\n",
    "    \n",
    "    def union(self, p, q):\n",
    "        i = self.root(p)\n",
    "        j = self.root(q)\n",
    "        self.id[i] = j"
   ]
  },
  {
   "cell_type": "code",
   "execution_count": 16,
   "metadata": {},
   "outputs": [],
   "source": [
    "quick_union = QuickUnionUF(6)\n",
    "quick_union.union(0, 1)\n",
    "quick_union.union(2, 3)\n",
    "quick_union.union(3, 4)"
   ]
  },
  {
   "cell_type": "code",
   "execution_count": 20,
   "metadata": {},
   "outputs": [
    {
     "name": "stdout",
     "output_type": "stream",
     "text": [
      "[1, 1, 3, 4, 4, 5]\n"
     ]
    }
   ],
   "source": [
    "print(quick_union.id)"
   ]
  },
  {
   "cell_type": "code",
   "execution_count": 21,
   "metadata": {},
   "outputs": [
    {
     "name": "stdout",
     "output_type": "stream",
     "text": [
      "True\n"
     ]
    }
   ],
   "source": [
    "print(quick_find.connected(0, 1))"
   ]
  },
  {
   "cell_type": "code",
   "execution_count": 22,
   "metadata": {},
   "outputs": [
    {
     "name": "stdout",
     "output_type": "stream",
     "text": [
      "True\n"
     ]
    }
   ],
   "source": [
    "print(quick_find.connected(2, 4))"
   ]
  },
  {
   "cell_type": "code",
   "execution_count": 23,
   "metadata": {},
   "outputs": [
    {
     "name": "stdout",
     "output_type": "stream",
     "text": [
      "False\n"
     ]
    }
   ],
   "source": [
    "print(quick_find.connected(3, 5))"
   ]
  },
  {
   "cell_type": "markdown",
   "metadata": {},
   "source": [
    "*Note that this lazy approach has worst case of O(N) time for finding a root (a deep tree where each level has only one node). Algo can be slow due to the imbalance of trees."
   ]
  },
  {
   "cell_type": "markdown",
   "metadata": {},
   "source": [
    "**Improvement #1**: Weighted trees\n",
    "- Always attach smaller tree to bigger tree to avoid building very deep tree"
   ]
  },
  {
   "cell_type": "code",
   "execution_count": 28,
   "metadata": {},
   "outputs": [],
   "source": [
    "class WeightedQU():\n",
    "    def __init__(self, N):\n",
    "        self.id = [i for i in range(N)] #initialize ids\n",
    "        self.sz = [1 for i in range(N)] #keep track of size of trees\n",
    "        \n",
    "    def root(self, i):\n",
    "        # keep finding parent util reaching root\n",
    "        while(i != self.id[i]):\n",
    "            i = self.id[i] \n",
    "        return i\n",
    "    \n",
    "    def find(self, p, q):\n",
    "        return self.root(p) == self.root(q)\n",
    "    \n",
    "    def union(self, p, q):\n",
    "        i = self.root(p)\n",
    "        j = self.root(q)\n",
    "        if self.sz[i] < self.sz[j]:\n",
    "            self.id[i] = j\n",
    "            self.sz[j] += self.sz[i]\n",
    "        else:\n",
    "            self.id[j] = i\n",
    "            self.sz[i] += self.sz[j]"
   ]
  },
  {
   "cell_type": "code",
   "execution_count": 29,
   "metadata": {},
   "outputs": [],
   "source": [
    "weighted_qu = WeightedQU(6)\n",
    "weighted_qu.union(0, 1)\n",
    "weighted_qu.union(2, 3)\n",
    "weighted_qu.union(3, 4)"
   ]
  },
  {
   "cell_type": "code",
   "execution_count": 30,
   "metadata": {},
   "outputs": [
    {
     "name": "stdout",
     "output_type": "stream",
     "text": [
      "[0, 0, 2, 2, 2, 5]\n",
      "[2, 1, 3, 1, 1, 1]\n"
     ]
    }
   ],
   "source": [
    "print(weighted_qu.id)\n",
    "print(weighted_qu.sz)"
   ]
  },
  {
   "cell_type": "code",
   "execution_count": 31,
   "metadata": {},
   "outputs": [
    {
     "name": "stdout",
     "output_type": "stream",
     "text": [
      "True\n",
      "True\n",
      "False\n"
     ]
    }
   ],
   "source": [
    "print(quick_find.connected(0, 1))\n",
    "print(quick_find.connected(2, 4))\n",
    "print(quick_find.connected(3, 5))"
   ]
  },
  {
   "cell_type": "markdown",
   "metadata": {},
   "source": [
    "**Improvement #2**: Path compression\n",
    "- Two-pass implementation: add second loop to root() to set the id[] of each examined node to the root.\n",
    "- Simpler one-pass variant: Make every other node in path point to its grandparent (thereby halving path length).\n",
    "\n",
    "Here we implement the second option which is simpler (one line of code added)"
   ]
  },
  {
   "cell_type": "code",
   "execution_count": 32,
   "metadata": {},
   "outputs": [],
   "source": [
    "class WeightedQUPC():\n",
    "    def __init__(self, N):\n",
    "        self.id = [i for i in range(N)] #initialize ids\n",
    "        self.sz = [1 for i in range(N)] #keep track of size of trees\n",
    "        \n",
    "    def root(self, i):\n",
    "        # keep finding parent util reaching root\n",
    "        while(i != self.id[i]):\n",
    "            self.id[i] = self.id[self.id[i]] #Make every other node in path point to its grandparent\n",
    "            i = self.id[i] \n",
    "        return i\n",
    "    \n",
    "    def find(self, p, q):\n",
    "        return self.root(p) == self.root(q)\n",
    "    \n",
    "    def union(self, p, q):\n",
    "        i = self.root(p)\n",
    "        j = self.root(q)\n",
    "        if self.sz[i] < self.sz[j]:\n",
    "            self.id[i] = j\n",
    "            self.sz[j] += self.sz[i]\n",
    "        else:\n",
    "            self.id[j] = i\n",
    "            self.sz[i] += self.sz[j]"
   ]
  },
  {
   "cell_type": "code",
   "execution_count": 33,
   "metadata": {},
   "outputs": [],
   "source": [
    "weighted_qupc = WeightedQUPC(6)\n",
    "weighted_qupc.union(0, 1)\n",
    "weighted_qupc.union(2, 3)\n",
    "weighted_qupc.union(3, 4)"
   ]
  },
  {
   "cell_type": "code",
   "execution_count": 34,
   "metadata": {},
   "outputs": [
    {
     "name": "stdout",
     "output_type": "stream",
     "text": [
      "True\n",
      "True\n",
      "False\n"
     ]
    }
   ],
   "source": [
    "print(quick_find.connected(0, 1))\n",
    "print(quick_find.connected(2, 4))\n",
    "print(quick_find.connected(3, 5))"
   ]
  },
  {
   "cell_type": "code",
   "execution_count": null,
   "metadata": {},
   "outputs": [],
   "source": []
  }
 ],
 "metadata": {
  "kernelspec": {
   "display_name": "Python 3",
   "language": "python",
   "name": "python3"
  },
  "language_info": {
   "codemirror_mode": {
    "name": "ipython",
    "version": 3
   },
   "file_extension": ".py",
   "mimetype": "text/x-python",
   "name": "python",
   "nbconvert_exporter": "python",
   "pygments_lexer": "ipython3",
   "version": "3.5.2"
  }
 },
 "nbformat": 4,
 "nbformat_minor": 2
}
