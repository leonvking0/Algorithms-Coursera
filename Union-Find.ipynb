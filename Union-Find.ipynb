{
 "cells": [
  {
   "cell_type": "markdown",
   "metadata": {},
   "source": [
    "## Given a connected graph, is there a path connecting p and q?"
   ]
  },
  {
   "cell_type": "markdown",
   "metadata": {},
   "source": [
    "![Dynamic Connectivity](imgs/dynamic_connectivity.PNG)"
   ]
  },
  {
   "cell_type": "markdown",
   "metadata": {},
   "source": [
    "The **quick find** (or **eager approach**) implements data structure like this: \n",
    "- Integer array id[] of length N\n",
    "- Interpretation: p and q are connected iff they have the same id\n",
    "\n",
    "and two functions:\n",
    "- connected. Check if p and q are connected\n",
    "- union. To merge components containing p and q, change all entries whose id equals id[p] to id[q] (basically connect two nodes)."
   ]
  },
  {
   "cell_type": "code",
   "execution_count": 6,
   "metadata": {},
   "outputs": [],
   "source": [
    "class QuickFindUF:\n",
    "    def __init__(self, N):\n",
    "        self.id = [i for i in range(N)] #initialize ids\n",
    "    \n",
    "    def connected(self, p, q):\n",
    "        return self.id[p] == self.id[q]\n",
    "    \n",
    "    def union(self, p, q):\n",
    "        p_id = self.id[p]\n",
    "        q_id = self.id[q]\n",
    "        # assign all entries whose id equals id[p] to id[q]\n",
    "        for i in range(len(self.id)):\n",
    "            if self.id[i] == p_id:\n",
    "                self.id[i] = q_id"
   ]
  },
  {
   "cell_type": "markdown",
   "metadata": {},
   "source": [
    "Example: (0, 1) (2, 3, 4) (5)"
   ]
  },
  {
   "cell_type": "code",
   "execution_count": 8,
   "metadata": {},
   "outputs": [],
   "source": [
    "quick_find = QuickFindUF(6)\n",
    "quick_find.union(0, 1)\n",
    "quick_find.union(2, 3)\n",
    "quick_find.union(3, 4)"
   ]
  },
  {
   "cell_type": "code",
   "execution_count": 9,
   "metadata": {},
   "outputs": [
    {
     "name": "stdout",
     "output_type": "stream",
     "text": [
      "True\n"
     ]
    }
   ],
   "source": [
    "print(quick_find.connected(0, 1))"
   ]
  },
  {
   "cell_type": "code",
   "execution_count": 10,
   "metadata": {},
   "outputs": [
    {
     "name": "stdout",
     "output_type": "stream",
     "text": [
      "True\n"
     ]
    }
   ],
   "source": [
    "print(quick_find.connected(2, 4))"
   ]
  },
  {
   "cell_type": "code",
   "execution_count": 12,
   "metadata": {},
   "outputs": [
    {
     "name": "stdout",
     "output_type": "stream",
     "text": [
      "False\n"
     ]
    }
   ],
   "source": [
    "print(quick_find.connected(3, 5))"
   ]
  },
  {
   "cell_type": "markdown",
   "metadata": {},
   "source": [
    "Note that this quick find algorithm takes O(1) time for checking connectivity, \n",
    "but take O(N^2) time for initializing the unions. Therefore it is quadratic and not scalable"
   ]
  },
  {
   "cell_type": "code",
   "execution_count": null,
   "metadata": {},
   "outputs": [],
   "source": []
  }
 ],
 "metadata": {
  "kernelspec": {
   "display_name": "Python 3",
   "language": "python",
   "name": "python3"
  },
  "language_info": {
   "codemirror_mode": {
    "name": "ipython",
    "version": 3
   },
   "file_extension": ".py",
   "mimetype": "text/x-python",
   "name": "python",
   "nbconvert_exporter": "python",
   "pygments_lexer": "ipython3",
   "version": "3.5.2"
  }
 },
 "nbformat": 4,
 "nbformat_minor": 2
}
